{
  "cells": [
    {
      "cell_type": "code",
      "execution_count": null,
      "metadata": {
        "colab": {
          "base_uri": "https://localhost:8080/"
        },
        "id": "eEJ6tybmo3cI",
        "outputId": "b33db615-9bdf-4517-dc8a-ebdb5e984f39"
      },
      "outputs": [],
      "source": [
        "# !pip install gradio scikit-learn pandas numpy"
      ]
    },
    {
      "cell_type": "code",
      "execution_count": 1,
      "metadata": {
        "id": "XReXMw3coqEw"
      },
      "outputs": [
        {
          "name": "stdout",
          "output_type": "stream",
          "text": [
            "Defaulting to user installation because normal site-packages is not writeable\n",
            "Requirement already satisfied: pandas in c:\\users\\ramro\\appdata\\local\\packages\\pythonsoftwarefoundation.python.3.12_qbz5n2kfra8p0\\localcache\\local-packages\\python312\\site-packages (2.2.2)\n",
            "Requirement already satisfied: numpy in c:\\users\\ramro\\appdata\\local\\packages\\pythonsoftwarefoundation.python.3.12_qbz5n2kfra8p0\\localcache\\local-packages\\python312\\site-packages (1.26.4)\n",
            "Requirement already satisfied: scikit-learn in c:\\users\\ramro\\appdata\\local\\packages\\pythonsoftwarefoundation.python.3.12_qbz5n2kfra8p0\\localcache\\local-packages\\python312\\site-packages (1.5.2)\n",
            "Requirement already satisfied: gradio in c:\\users\\ramro\\appdata\\local\\packages\\pythonsoftwarefoundation.python.3.12_qbz5n2kfra8p0\\localcache\\local-packages\\python312\\site-packages (5.9.0)\n",
            "Requirement already satisfied: python-dateutil>=2.8.2 in c:\\users\\ramro\\appdata\\local\\packages\\pythonsoftwarefoundation.python.3.12_qbz5n2kfra8p0\\localcache\\local-packages\\python312\\site-packages (from pandas) (2.9.0.post0)\n",
            "Requirement already satisfied: pytz>=2020.1 in c:\\users\\ramro\\appdata\\local\\packages\\pythonsoftwarefoundation.python.3.12_qbz5n2kfra8p0\\localcache\\local-packages\\python312\\site-packages (from pandas) (2024.2)\n",
            "Requirement already satisfied: tzdata>=2022.7 in c:\\users\\ramro\\appdata\\local\\packages\\pythonsoftwarefoundation.python.3.12_qbz5n2kfra8p0\\localcache\\local-packages\\python312\\site-packages (from pandas) (2024.1)\n",
            "Requirement already satisfied: scipy>=1.6.0 in c:\\users\\ramro\\appdata\\local\\packages\\pythonsoftwarefoundation.python.3.12_qbz5n2kfra8p0\\localcache\\local-packages\\python312\\site-packages (from scikit-learn) (1.13.1)\n",
            "Requirement already satisfied: joblib>=1.2.0 in c:\\users\\ramro\\appdata\\local\\packages\\pythonsoftwarefoundation.python.3.12_qbz5n2kfra8p0\\localcache\\local-packages\\python312\\site-packages (from scikit-learn) (1.4.2)\n",
            "Requirement already satisfied: threadpoolctl>=3.1.0 in c:\\users\\ramro\\appdata\\local\\packages\\pythonsoftwarefoundation.python.3.12_qbz5n2kfra8p0\\localcache\\local-packages\\python312\\site-packages (from scikit-learn) (3.5.0)\n",
            "Requirement already satisfied: aiofiles<24.0,>=22.0 in c:\\users\\ramro\\appdata\\local\\packages\\pythonsoftwarefoundation.python.3.12_qbz5n2kfra8p0\\localcache\\local-packages\\python312\\site-packages (from gradio) (23.2.1)\n",
            "Requirement already satisfied: anyio<5.0,>=3.0 in c:\\users\\ramro\\appdata\\local\\packages\\pythonsoftwarefoundation.python.3.12_qbz5n2kfra8p0\\localcache\\local-packages\\python312\\site-packages (from gradio) (4.6.2.post1)\n",
            "Requirement already satisfied: fastapi<1.0,>=0.115.2 in c:\\users\\ramro\\appdata\\local\\packages\\pythonsoftwarefoundation.python.3.12_qbz5n2kfra8p0\\localcache\\local-packages\\python312\\site-packages (from gradio) (0.115.6)\n",
            "Requirement already satisfied: ffmpy in c:\\users\\ramro\\appdata\\local\\packages\\pythonsoftwarefoundation.python.3.12_qbz5n2kfra8p0\\localcache\\local-packages\\python312\\site-packages (from gradio) (0.4.0)\n",
            "Requirement already satisfied: gradio-client==1.5.2 in c:\\users\\ramro\\appdata\\local\\packages\\pythonsoftwarefoundation.python.3.12_qbz5n2kfra8p0\\localcache\\local-packages\\python312\\site-packages (from gradio) (1.5.2)\n",
            "Requirement already satisfied: httpx>=0.24.1 in c:\\users\\ramro\\appdata\\local\\packages\\pythonsoftwarefoundation.python.3.12_qbz5n2kfra8p0\\localcache\\local-packages\\python312\\site-packages (from gradio) (0.28.0)\n",
            "Requirement already satisfied: huggingface-hub>=0.25.1 in c:\\users\\ramro\\appdata\\local\\packages\\pythonsoftwarefoundation.python.3.12_qbz5n2kfra8p0\\localcache\\local-packages\\python312\\site-packages (from gradio) (0.26.3)\n",
            "Requirement already satisfied: jinja2<4.0 in c:\\users\\ramro\\appdata\\local\\packages\\pythonsoftwarefoundation.python.3.12_qbz5n2kfra8p0\\localcache\\local-packages\\python312\\site-packages (from gradio) (3.1.4)\n",
            "Requirement already satisfied: markupsafe~=2.0 in c:\\users\\ramro\\appdata\\local\\packages\\pythonsoftwarefoundation.python.3.12_qbz5n2kfra8p0\\localcache\\local-packages\\python312\\site-packages (from gradio) (2.1.5)\n",
            "Requirement already satisfied: orjson~=3.0 in c:\\users\\ramro\\appdata\\local\\packages\\pythonsoftwarefoundation.python.3.12_qbz5n2kfra8p0\\localcache\\local-packages\\python312\\site-packages (from gradio) (3.10.11)\n",
            "Requirement already satisfied: packaging in c:\\users\\ramro\\appdata\\local\\packages\\pythonsoftwarefoundation.python.3.12_qbz5n2kfra8p0\\localcache\\local-packages\\python312\\site-packages (from gradio) (24.1)\n",
            "Requirement already satisfied: pillow<12.0,>=8.0 in c:\\users\\ramro\\appdata\\local\\packages\\pythonsoftwarefoundation.python.3.12_qbz5n2kfra8p0\\localcache\\local-packages\\python312\\site-packages (from gradio) (10.4.0)\n",
            "Requirement already satisfied: pydantic>=2.0 in c:\\users\\ramro\\appdata\\local\\packages\\pythonsoftwarefoundation.python.3.12_qbz5n2kfra8p0\\localcache\\local-packages\\python312\\site-packages (from gradio) (2.9.2)\n",
            "Requirement already satisfied: pydub in c:\\users\\ramro\\appdata\\local\\packages\\pythonsoftwarefoundation.python.3.12_qbz5n2kfra8p0\\localcache\\local-packages\\python312\\site-packages (from gradio) (0.25.1)\n",
            "Requirement already satisfied: python-multipart>=0.0.18 in c:\\users\\ramro\\appdata\\local\\packages\\pythonsoftwarefoundation.python.3.12_qbz5n2kfra8p0\\localcache\\local-packages\\python312\\site-packages (from gradio) (0.0.19)\n",
            "Requirement already satisfied: pyyaml<7.0,>=5.0 in c:\\users\\ramro\\appdata\\local\\packages\\pythonsoftwarefoundation.python.3.12_qbz5n2kfra8p0\\localcache\\local-packages\\python312\\site-packages (from gradio) (6.0.2)\n",
            "Requirement already satisfied: ruff>=0.2.2 in c:\\users\\ramro\\appdata\\local\\packages\\pythonsoftwarefoundation.python.3.12_qbz5n2kfra8p0\\localcache\\local-packages\\python312\\site-packages (from gradio) (0.8.3)\n",
            "Requirement already satisfied: safehttpx<0.2.0,>=0.1.6 in c:\\users\\ramro\\appdata\\local\\packages\\pythonsoftwarefoundation.python.3.12_qbz5n2kfra8p0\\localcache\\local-packages\\python312\\site-packages (from gradio) (0.1.6)\n",
            "Requirement already satisfied: semantic-version~=2.0 in c:\\users\\ramro\\appdata\\local\\packages\\pythonsoftwarefoundation.python.3.12_qbz5n2kfra8p0\\localcache\\local-packages\\python312\\site-packages (from gradio) (2.10.0)\n",
            "Requirement already satisfied: starlette<1.0,>=0.40.0 in c:\\users\\ramro\\appdata\\local\\packages\\pythonsoftwarefoundation.python.3.12_qbz5n2kfra8p0\\localcache\\local-packages\\python312\\site-packages (from gradio) (0.41.3)\n",
            "Requirement already satisfied: tomlkit<0.14.0,>=0.12.0 in c:\\users\\ramro\\appdata\\local\\packages\\pythonsoftwarefoundation.python.3.12_qbz5n2kfra8p0\\localcache\\local-packages\\python312\\site-packages (from gradio) (0.13.2)\n",
            "Requirement already satisfied: typer<1.0,>=0.12 in c:\\users\\ramro\\appdata\\local\\packages\\pythonsoftwarefoundation.python.3.12_qbz5n2kfra8p0\\localcache\\local-packages\\python312\\site-packages (from gradio) (0.15.1)\n",
            "Requirement already satisfied: typing-extensions~=4.0 in c:\\users\\ramro\\appdata\\local\\packages\\pythonsoftwarefoundation.python.3.12_qbz5n2kfra8p0\\localcache\\local-packages\\python312\\site-packages (from gradio) (4.12.2)\n",
            "Requirement already satisfied: uvicorn>=0.14.0 in c:\\users\\ramro\\appdata\\local\\packages\\pythonsoftwarefoundation.python.3.12_qbz5n2kfra8p0\\localcache\\local-packages\\python312\\site-packages (from gradio) (0.32.1)\n",
            "Requirement already satisfied: fsspec in c:\\users\\ramro\\appdata\\local\\packages\\pythonsoftwarefoundation.python.3.12_qbz5n2kfra8p0\\localcache\\local-packages\\python312\\site-packages (from gradio-client==1.5.2->gradio) (2024.10.0)\n",
            "Requirement already satisfied: websockets<15.0,>=10.0 in c:\\users\\ramro\\appdata\\local\\packages\\pythonsoftwarefoundation.python.3.12_qbz5n2kfra8p0\\localcache\\local-packages\\python312\\site-packages (from gradio-client==1.5.2->gradio) (13.1)\n",
            "Requirement already satisfied: idna>=2.8 in c:\\users\\ramro\\appdata\\local\\packages\\pythonsoftwarefoundation.python.3.12_qbz5n2kfra8p0\\localcache\\local-packages\\python312\\site-packages (from anyio<5.0,>=3.0->gradio) (3.10)\n",
            "Requirement already satisfied: sniffio>=1.1 in c:\\users\\ramro\\appdata\\local\\packages\\pythonsoftwarefoundation.python.3.12_qbz5n2kfra8p0\\localcache\\local-packages\\python312\\site-packages (from anyio<5.0,>=3.0->gradio) (1.3.1)\n",
            "Requirement already satisfied: certifi in c:\\users\\ramro\\appdata\\local\\packages\\pythonsoftwarefoundation.python.3.12_qbz5n2kfra8p0\\localcache\\local-packages\\python312\\site-packages (from httpx>=0.24.1->gradio) (2024.8.30)\n",
            "Requirement already satisfied: httpcore==1.* in c:\\users\\ramro\\appdata\\local\\packages\\pythonsoftwarefoundation.python.3.12_qbz5n2kfra8p0\\localcache\\local-packages\\python312\\site-packages (from httpx>=0.24.1->gradio) (1.0.7)\n",
            "Requirement already satisfied: h11<0.15,>=0.13 in c:\\users\\ramro\\appdata\\local\\packages\\pythonsoftwarefoundation.python.3.12_qbz5n2kfra8p0\\localcache\\local-packages\\python312\\site-packages (from httpcore==1.*->httpx>=0.24.1->gradio) (0.14.0)\n",
            "Requirement already satisfied: filelock in c:\\users\\ramro\\appdata\\local\\packages\\pythonsoftwarefoundation.python.3.12_qbz5n2kfra8p0\\localcache\\local-packages\\python312\\site-packages (from huggingface-hub>=0.25.1->gradio) (3.16.1)\n",
            "Requirement already satisfied: requests in c:\\users\\ramro\\appdata\\local\\packages\\pythonsoftwarefoundation.python.3.12_qbz5n2kfra8p0\\localcache\\local-packages\\python312\\site-packages (from huggingface-hub>=0.25.1->gradio) (2.32.3)\n",
            "Requirement already satisfied: tqdm>=4.42.1 in c:\\users\\ramro\\appdata\\local\\packages\\pythonsoftwarefoundation.python.3.12_qbz5n2kfra8p0\\localcache\\local-packages\\python312\\site-packages (from huggingface-hub>=0.25.1->gradio) (4.66.5)\n",
            "Requirement already satisfied: annotated-types>=0.6.0 in c:\\users\\ramro\\appdata\\local\\packages\\pythonsoftwarefoundation.python.3.12_qbz5n2kfra8p0\\localcache\\local-packages\\python312\\site-packages (from pydantic>=2.0->gradio) (0.7.0)\n",
            "Requirement already satisfied: pydantic-core==2.23.4 in c:\\users\\ramro\\appdata\\local\\packages\\pythonsoftwarefoundation.python.3.12_qbz5n2kfra8p0\\localcache\\local-packages\\python312\\site-packages (from pydantic>=2.0->gradio) (2.23.4)\n",
            "Requirement already satisfied: six>=1.5 in c:\\users\\ramro\\appdata\\local\\packages\\pythonsoftwarefoundation.python.3.12_qbz5n2kfra8p0\\localcache\\local-packages\\python312\\site-packages (from python-dateutil>=2.8.2->pandas) (1.16.0)\n",
            "Requirement already satisfied: click>=8.0.0 in c:\\users\\ramro\\appdata\\local\\packages\\pythonsoftwarefoundation.python.3.12_qbz5n2kfra8p0\\localcache\\local-packages\\python312\\site-packages (from typer<1.0,>=0.12->gradio) (8.1.7)\n",
            "Requirement already satisfied: shellingham>=1.3.0 in c:\\users\\ramro\\appdata\\local\\packages\\pythonsoftwarefoundation.python.3.12_qbz5n2kfra8p0\\localcache\\local-packages\\python312\\site-packages (from typer<1.0,>=0.12->gradio) (1.5.4)\n",
            "Requirement already satisfied: rich>=10.11.0 in c:\\users\\ramro\\appdata\\local\\packages\\pythonsoftwarefoundation.python.3.12_qbz5n2kfra8p0\\localcache\\local-packages\\python312\\site-packages (from typer<1.0,>=0.12->gradio) (13.9.4)\n",
            "Requirement already satisfied: colorama in c:\\users\\ramro\\appdata\\local\\packages\\pythonsoftwarefoundation.python.3.12_qbz5n2kfra8p0\\localcache\\local-packages\\python312\\site-packages (from click>=8.0.0->typer<1.0,>=0.12->gradio) (0.4.6)\n",
            "Requirement already satisfied: markdown-it-py>=2.2.0 in c:\\users\\ramro\\appdata\\local\\packages\\pythonsoftwarefoundation.python.3.12_qbz5n2kfra8p0\\localcache\\local-packages\\python312\\site-packages (from rich>=10.11.0->typer<1.0,>=0.12->gradio) (3.0.0)\n",
            "Requirement already satisfied: pygments<3.0.0,>=2.13.0 in c:\\users\\ramro\\appdata\\local\\packages\\pythonsoftwarefoundation.python.3.12_qbz5n2kfra8p0\\localcache\\local-packages\\python312\\site-packages (from rich>=10.11.0->typer<1.0,>=0.12->gradio) (2.18.0)\n",
            "Requirement already satisfied: charset-normalizer<4,>=2 in c:\\users\\ramro\\appdata\\local\\packages\\pythonsoftwarefoundation.python.3.12_qbz5n2kfra8p0\\localcache\\local-packages\\python312\\site-packages (from requests->huggingface-hub>=0.25.1->gradio) (3.4.0)\n",
            "Requirement already satisfied: urllib3<3,>=1.21.1 in c:\\users\\ramro\\appdata\\local\\packages\\pythonsoftwarefoundation.python.3.12_qbz5n2kfra8p0\\localcache\\local-packages\\python312\\site-packages (from requests->huggingface-hub>=0.25.1->gradio) (2.2.3)\n",
            "Requirement already satisfied: mdurl~=0.1 in c:\\users\\ramro\\appdata\\local\\packages\\pythonsoftwarefoundation.python.3.12_qbz5n2kfra8p0\\localcache\\local-packages\\python312\\site-packages (from markdown-it-py>=2.2.0->rich>=10.11.0->typer<1.0,>=0.12->gradio) (0.1.2)\n",
            "Note: you may need to restart the kernel to use updated packages.\n"
          ]
        }
      ],
      "source": [
        "%pip install pandas numpy scikit-learn gradio\n",
        "\n",
        "import pandas as pd\n",
        "import numpy as np\n",
        "from sklearn.decomposition import TruncatedSVD\n",
        "from sklearn.metrics import mean_squared_error\n",
        "from sklearn.model_selection import cross_val_score, KFold\n",
        "import gradio as gr\n"
      ]
    },
    {
      "cell_type": "code",
      "execution_count": 3,
      "metadata": {
        "colab": {
          "base_uri": "https://localhost:8080/"
        },
        "id": "8as7Q1JErdfP",
        "outputId": "474e1e64-ef17-493d-be27-127755df5269"
      },
      "outputs": [
        {
          "name": "stdout",
          "output_type": "stream",
          "text": [
            "Movies dataset shape: (9742, 3)\n",
            "Ratings dataset shape: (100836, 4)\n"
          ]
        },
        {
          "data": {
            "text/plain": [
              "(   movieId                               title  \\\n",
              " 0        1                    Toy Story (1995)   \n",
              " 1        2                      Jumanji (1995)   \n",
              " 2        3             Grumpier Old Men (1995)   \n",
              " 3        4            Waiting to Exhale (1995)   \n",
              " 4        5  Father of the Bride Part II (1995)   \n",
              " \n",
              "                                         genres  \n",
              " 0  Adventure|Animation|Children|Comedy|Fantasy  \n",
              " 1                   Adventure|Children|Fantasy  \n",
              " 2                               Comedy|Romance  \n",
              " 3                         Comedy|Drama|Romance  \n",
              " 4                                       Comedy  ,\n",
              "    userId  movieId  rating  timestamp\n",
              " 0       1        1     4.0  964982703\n",
              " 1       1        3     4.0  964981247\n",
              " 2       1        6     4.0  964982224\n",
              " 3       1       47     5.0  964983815\n",
              " 4       1       50     5.0  964982931)"
            ]
          },
          "execution_count": 3,
          "metadata": {},
          "output_type": "execute_result"
        }
      ],
      "source": [
        "from zipfile import ZipFile\n",
        "import os\n",
        "\n",
        "# Upload and extract the ml-latest-small.zip file\n",
        "# !wget https://files.grouplens.org/datasets/movielens/ml-latest-small.zip\n",
        "with ZipFile('ml-latest-small.zip', 'r') as zip_ref:\n",
        "    zip_ref.extractall()\n",
        "\n",
        "# Load the dataset\n",
        "movies = pd.read_csv('ml-latest-small/movies.csv')\n",
        "ratings = pd.read_csv('ml-latest-small/ratings.csv')\n",
        "\n",
        "# Check basic data\n",
        "print(\"Movies dataset shape:\", movies.shape)\n",
        "print(\"Ratings dataset shape:\", ratings.shape)\n",
        "movies.head(), ratings.head()\n"
      ]
    },
    {
      "cell_type": "code",
      "execution_count": 16,
      "metadata": {
        "colab": {
          "base_uri": "https://localhost:8080/"
        },
        "id": "0gif6PjHrfpN",
        "outputId": "bf0a94f1-2279-41d2-e274-de2ee56b518f"
      },
      "outputs": [
        {
          "name": "stdout",
          "output_type": "stream",
          "text": [
            "Missing values in ratings: userId       0\n",
            "movieId      0\n",
            "rating       0\n",
            "timestamp    0\n",
            "dtype: int64\n"
          ]
        },
        {
          "data": {
            "text/html": [
              "<div>\n",
              "<style scoped>\n",
              "    .dataframe tbody tr th:only-of-type {\n",
              "        vertical-align: middle;\n",
              "    }\n",
              "\n",
              "    .dataframe tbody tr th {\n",
              "        vertical-align: top;\n",
              "    }\n",
              "\n",
              "    .dataframe thead th {\n",
              "        text-align: right;\n",
              "    }\n",
              "</style>\n",
              "<table border=\"1\" class=\"dataframe\">\n",
              "  <thead>\n",
              "    <tr style=\"text-align: right;\">\n",
              "      <th></th>\n",
              "      <th>0</th>\n",
              "      <th>1</th>\n",
              "      <th>2</th>\n",
              "      <th>3</th>\n",
              "      <th>4</th>\n",
              "      <th>5</th>\n",
              "      <th>6</th>\n",
              "      <th>7</th>\n",
              "      <th>8</th>\n",
              "      <th>9</th>\n",
              "      <th>...</th>\n",
              "      <th>9714</th>\n",
              "      <th>9715</th>\n",
              "      <th>9716</th>\n",
              "      <th>9717</th>\n",
              "      <th>9718</th>\n",
              "      <th>9719</th>\n",
              "      <th>9720</th>\n",
              "      <th>9721</th>\n",
              "      <th>9722</th>\n",
              "      <th>9723</th>\n",
              "    </tr>\n",
              "  </thead>\n",
              "  <tbody>\n",
              "    <tr>\n",
              "      <th>0</th>\n",
              "      <td>1.351355</td>\n",
              "      <td>-0.451377</td>\n",
              "      <td>3.877305</td>\n",
              "      <td>-0.102112</td>\n",
              "      <td>-0.282698</td>\n",
              "      <td>2.212582</td>\n",
              "      <td>-0.296949</td>\n",
              "      <td>-0.108158</td>\n",
              "      <td>-0.156937</td>\n",
              "      <td>-0.50648</td>\n",
              "      <td>...</td>\n",
              "      <td>-0.040522</td>\n",
              "      <td>-0.040522</td>\n",
              "      <td>-0.040522</td>\n",
              "      <td>-0.040522</td>\n",
              "      <td>-0.040522</td>\n",
              "      <td>-0.040522</td>\n",
              "      <td>-0.040522</td>\n",
              "      <td>-0.040522</td>\n",
              "      <td>-0.040522</td>\n",
              "      <td>-0.040522</td>\n",
              "    </tr>\n",
              "    <tr>\n",
              "      <th>1</th>\n",
              "      <td>-0.713333</td>\n",
              "      <td>-0.451377</td>\n",
              "      <td>-0.289453</td>\n",
              "      <td>-0.102112</td>\n",
              "      <td>-0.282698</td>\n",
              "      <td>-0.437087</td>\n",
              "      <td>-0.296949</td>\n",
              "      <td>-0.108158</td>\n",
              "      <td>-0.156937</td>\n",
              "      <td>-0.50648</td>\n",
              "      <td>...</td>\n",
              "      <td>-0.040522</td>\n",
              "      <td>-0.040522</td>\n",
              "      <td>-0.040522</td>\n",
              "      <td>-0.040522</td>\n",
              "      <td>-0.040522</td>\n",
              "      <td>-0.040522</td>\n",
              "      <td>-0.040522</td>\n",
              "      <td>-0.040522</td>\n",
              "      <td>-0.040522</td>\n",
              "      <td>-0.040522</td>\n",
              "    </tr>\n",
              "    <tr>\n",
              "      <th>2</th>\n",
              "      <td>-0.713333</td>\n",
              "      <td>-0.451377</td>\n",
              "      <td>-0.289453</td>\n",
              "      <td>-0.102112</td>\n",
              "      <td>-0.282698</td>\n",
              "      <td>-0.437087</td>\n",
              "      <td>-0.296949</td>\n",
              "      <td>-0.108158</td>\n",
              "      <td>-0.156937</td>\n",
              "      <td>-0.50648</td>\n",
              "      <td>...</td>\n",
              "      <td>-0.040522</td>\n",
              "      <td>-0.040522</td>\n",
              "      <td>-0.040522</td>\n",
              "      <td>-0.040522</td>\n",
              "      <td>-0.040522</td>\n",
              "      <td>-0.040522</td>\n",
              "      <td>-0.040522</td>\n",
              "      <td>-0.040522</td>\n",
              "      <td>-0.040522</td>\n",
              "      <td>-0.040522</td>\n",
              "    </tr>\n",
              "    <tr>\n",
              "      <th>3</th>\n",
              "      <td>-0.713333</td>\n",
              "      <td>-0.451377</td>\n",
              "      <td>-0.289453</td>\n",
              "      <td>-0.102112</td>\n",
              "      <td>-0.282698</td>\n",
              "      <td>-0.437087</td>\n",
              "      <td>-0.296949</td>\n",
              "      <td>-0.108158</td>\n",
              "      <td>-0.156937</td>\n",
              "      <td>-0.50648</td>\n",
              "      <td>...</td>\n",
              "      <td>-0.040522</td>\n",
              "      <td>-0.040522</td>\n",
              "      <td>-0.040522</td>\n",
              "      <td>-0.040522</td>\n",
              "      <td>-0.040522</td>\n",
              "      <td>-0.040522</td>\n",
              "      <td>-0.040522</td>\n",
              "      <td>-0.040522</td>\n",
              "      <td>-0.040522</td>\n",
              "      <td>-0.040522</td>\n",
              "    </tr>\n",
              "    <tr>\n",
              "      <th>4</th>\n",
              "      <td>1.351355</td>\n",
              "      <td>-0.451377</td>\n",
              "      <td>-0.289453</td>\n",
              "      <td>-0.102112</td>\n",
              "      <td>-0.282698</td>\n",
              "      <td>-0.437087</td>\n",
              "      <td>-0.296949</td>\n",
              "      <td>-0.108158</td>\n",
              "      <td>-0.156937</td>\n",
              "      <td>-0.50648</td>\n",
              "      <td>...</td>\n",
              "      <td>-0.040522</td>\n",
              "      <td>-0.040522</td>\n",
              "      <td>-0.040522</td>\n",
              "      <td>-0.040522</td>\n",
              "      <td>-0.040522</td>\n",
              "      <td>-0.040522</td>\n",
              "      <td>-0.040522</td>\n",
              "      <td>-0.040522</td>\n",
              "      <td>-0.040522</td>\n",
              "      <td>-0.040522</td>\n",
              "    </tr>\n",
              "  </tbody>\n",
              "</table>\n",
              "<p>5 rows × 9724 columns</p>\n",
              "</div>"
            ],
            "text/plain": [
              "       0         1         2         3         4         5         6     \\\n",
              "0  1.351355 -0.451377  3.877305 -0.102112 -0.282698  2.212582 -0.296949   \n",
              "1 -0.713333 -0.451377 -0.289453 -0.102112 -0.282698 -0.437087 -0.296949   \n",
              "2 -0.713333 -0.451377 -0.289453 -0.102112 -0.282698 -0.437087 -0.296949   \n",
              "3 -0.713333 -0.451377 -0.289453 -0.102112 -0.282698 -0.437087 -0.296949   \n",
              "4  1.351355 -0.451377 -0.289453 -0.102112 -0.282698 -0.437087 -0.296949   \n",
              "\n",
              "       7         8        9     ...      9714      9715      9716      9717  \\\n",
              "0 -0.108158 -0.156937 -0.50648  ... -0.040522 -0.040522 -0.040522 -0.040522   \n",
              "1 -0.108158 -0.156937 -0.50648  ... -0.040522 -0.040522 -0.040522 -0.040522   \n",
              "2 -0.108158 -0.156937 -0.50648  ... -0.040522 -0.040522 -0.040522 -0.040522   \n",
              "3 -0.108158 -0.156937 -0.50648  ... -0.040522 -0.040522 -0.040522 -0.040522   \n",
              "4 -0.108158 -0.156937 -0.50648  ... -0.040522 -0.040522 -0.040522 -0.040522   \n",
              "\n",
              "       9718      9719      9720      9721      9722      9723  \n",
              "0 -0.040522 -0.040522 -0.040522 -0.040522 -0.040522 -0.040522  \n",
              "1 -0.040522 -0.040522 -0.040522 -0.040522 -0.040522 -0.040522  \n",
              "2 -0.040522 -0.040522 -0.040522 -0.040522 -0.040522 -0.040522  \n",
              "3 -0.040522 -0.040522 -0.040522 -0.040522 -0.040522 -0.040522  \n",
              "4 -0.040522 -0.040522 -0.040522 -0.040522 -0.040522 -0.040522  \n",
              "\n",
              "[5 rows x 9724 columns]"
            ]
          },
          "metadata": {},
          "output_type": "display_data"
        }
      ],
      "source": [
        "import pandas as pd\n",
        "import numpy as np\n",
        "\n",
        "# Check for missing values\n",
        "print(\"Missing values in ratings:\", ratings.isnull().sum())\n",
        "\n",
        "# Remove duplicates if any\n",
        "ratings = ratings.drop_duplicates()\n",
        "\n",
        "# Create a user-item interaction matrix\n",
        "user_item_matrix = ratings.pivot_table(index='userId', columns='movieId', values='rating', fill_value=0)\n",
        "\n",
        "# Normalize the matrix (optional)\n",
        "#outlier detection needs to be done before normalization as it can affect the\n",
        "#standardScaler function output\n",
        "from sklearn.preprocessing import StandardScaler\n",
        "scaler = StandardScaler()\n",
        "user_item_matrix_scaled = scaler.fit_transform(user_item_matrix)\n",
        "\n",
        "# Convert the NumPy array to a pandas DataFrame\n",
        "user_item_matrix_scaled_df = pd.DataFrame(user_item_matrix_scaled)\n",
        "\n",
        "# Now you can use the head method\n",
        "display(user_item_matrix_scaled_df.head())\n"
      ]
    },
    {
      "cell_type": "code",
      "execution_count": 5,
      "metadata": {
        "id": "8OICrHlArh_b"
      },
      "outputs": [],
      "source": [
        "# Define the custom RMSE scoring function\n",
        "def rmse_scorer(model, X, y):\n",
        "    # Predict ratings by multiplying user-item matrix with SVD components\n",
        "    predicted_ratings = model.transform(X).dot(model.components_)\n",
        "    # Compute RMSE\n",
        "    return np.sqrt(mean_squared_error(y, predicted_ratings))\n"
      ]
    },
    {
      "cell_type": "code",
      "execution_count": 6,
      "metadata": {
        "colab": {
          "base_uri": "https://localhost:8080/"
        },
        "id": "KOh-u50Arkqk",
        "outputId": "c654cfdd-d821-4710-8f08-8aa361e49baf"
      },
      "outputs": [
        {
          "name": "stdout",
          "output_type": "stream",
          "text": [
            "              0         1         2         3         4         5         6   \\\n",
            "userId                                                                         \n",
            "1       4.562492 -0.149098  0.348287  2.473971 -3.384682  0.121423 -1.742425   \n",
            "2      -8.023881  0.263295 -1.138552 -1.664633 -1.423625 -1.943960 -0.970332   \n",
            "3      -8.242660  0.566647 -1.301136 -1.892789 -1.556872 -1.886818 -1.285589   \n",
            "4       1.290247  4.620039 -1.927515  0.105165 -3.318396  4.467783 -1.593049   \n",
            "5      -7.931517  1.262333 -1.744985 -1.600606 -2.213035 -1.417978 -1.248382   \n",
            "\n",
            "              7         8         9   ...        40        41        42  \\\n",
            "userId                                ...                                 \n",
            "1       0.807162 -4.754663 -7.146543  ... -2.072484  4.367784  6.695107   \n",
            "2      -1.740035  2.736711  2.362845  ... -0.576224  0.302201 -0.208763   \n",
            "3      -3.244104  2.664849  0.802229  ... -1.084267  1.882293  1.203937   \n",
            "4      -3.927323  2.097055 -5.305602  ...  0.138131  0.404978  0.604641   \n",
            "5      -2.826994  2.459812  0.742878  ...  0.250637 -0.439864 -0.386637   \n",
            "\n",
            "              43        44        45        46        47        48        49  \n",
            "userId                                                                        \n",
            "1      -0.926254 -1.381855 -1.581892  1.525962  2.143225 -2.483226  2.321764  \n",
            "2      -1.060954 -0.366789  0.881680  0.085118 -0.122614  0.725321 -1.522216  \n",
            "3      -1.130041  0.337143 -0.005096 -0.248205  0.333058 -0.287457 -0.973859  \n",
            "4       0.061155 -0.455096  1.751290  0.713081  0.665421 -5.854117  4.311851  \n",
            "5       0.271318  0.244346 -0.641705 -0.130024  0.170614 -0.115657 -0.029580  \n",
            "\n",
            "[5 rows x 50 columns]\n"
          ]
        }
      ],
      "source": [
        "# Apply Truncated SVD for matrix factorization\n",
        "svd = TruncatedSVD(n_components=50, random_state=42)\n",
        "svd_matrix = svd.fit_transform(user_item_matrix_scaled)\n",
        "\n",
        "# Convert the SVD results back into a DataFrame for easier understanding\n",
        "svd_df = pd.DataFrame(svd_matrix, index=user_item_matrix.index)\n",
        "\n",
        "# Show the SVD results\n",
        "print(svd_df.head())\n"
      ]
    },
    {
      "cell_type": "code",
      "execution_count": 7,
      "metadata": {
        "colab": {
          "base_uri": "https://localhost:8080/"
        },
        "id": "e9G9YSE6rne7",
        "outputId": "958c6148-c4ff-4705-edf3-9bb298c9b841"
      },
      "outputs": [
        {
          "name": "stderr",
          "output_type": "stream",
          "text": [
            "C:\\Users\\Ramro\\AppData\\Local\\Packages\\PythonSoftwareFoundation.Python.3.12_qbz5n2kfra8p0\\LocalCache\\local-packages\\Python312\\site-packages\\sklearn\\model_selection\\_validation.py:1000: UserWarning: Scoring failed. The score on this train-test partition for these parameters will be set to nan. Details: \n",
            "Traceback (most recent call last):\n",
            "  File \"C:\\Users\\Ramro\\AppData\\Local\\Packages\\PythonSoftwareFoundation.Python.3.12_qbz5n2kfra8p0\\LocalCache\\local-packages\\Python312\\site-packages\\sklearn\\metrics\\_scorer.py\", line 143, in __call__\n",
            "    score = scorer(estimator, *args, **routed_params.get(name).score)\n",
            "            ^^^^^^^^^^^^^^^^^^^^^^^^^^^^^^^^^^^^^^^^^^^^^^^^^^^^^^^^^\n",
            "TypeError: rmse_scorer() missing 1 required positional argument: 'y'\n",
            "\n",
            "  warnings.warn(\n",
            "C:\\Users\\Ramro\\AppData\\Local\\Packages\\PythonSoftwareFoundation.Python.3.12_qbz5n2kfra8p0\\LocalCache\\local-packages\\Python312\\site-packages\\sklearn\\model_selection\\_validation.py:1000: UserWarning: Scoring failed. The score on this train-test partition for these parameters will be set to nan. Details: \n",
            "Traceback (most recent call last):\n",
            "  File \"C:\\Users\\Ramro\\AppData\\Local\\Packages\\PythonSoftwareFoundation.Python.3.12_qbz5n2kfra8p0\\LocalCache\\local-packages\\Python312\\site-packages\\sklearn\\metrics\\_scorer.py\", line 143, in __call__\n",
            "    score = scorer(estimator, *args, **routed_params.get(name).score)\n",
            "            ^^^^^^^^^^^^^^^^^^^^^^^^^^^^^^^^^^^^^^^^^^^^^^^^^^^^^^^^^\n",
            "TypeError: rmse_scorer() missing 1 required positional argument: 'y'\n",
            "\n",
            "  warnings.warn(\n",
            "C:\\Users\\Ramro\\AppData\\Local\\Packages\\PythonSoftwareFoundation.Python.3.12_qbz5n2kfra8p0\\LocalCache\\local-packages\\Python312\\site-packages\\sklearn\\model_selection\\_validation.py:1000: UserWarning: Scoring failed. The score on this train-test partition for these parameters will be set to nan. Details: \n",
            "Traceback (most recent call last):\n",
            "  File \"C:\\Users\\Ramro\\AppData\\Local\\Packages\\PythonSoftwareFoundation.Python.3.12_qbz5n2kfra8p0\\LocalCache\\local-packages\\Python312\\site-packages\\sklearn\\metrics\\_scorer.py\", line 143, in __call__\n",
            "    score = scorer(estimator, *args, **routed_params.get(name).score)\n",
            "            ^^^^^^^^^^^^^^^^^^^^^^^^^^^^^^^^^^^^^^^^^^^^^^^^^^^^^^^^^\n",
            "TypeError: rmse_scorer() missing 1 required positional argument: 'y'\n",
            "\n",
            "  warnings.warn(\n",
            "C:\\Users\\Ramro\\AppData\\Local\\Packages\\PythonSoftwareFoundation.Python.3.12_qbz5n2kfra8p0\\LocalCache\\local-packages\\Python312\\site-packages\\sklearn\\model_selection\\_validation.py:1000: UserWarning: Scoring failed. The score on this train-test partition for these parameters will be set to nan. Details: \n",
            "Traceback (most recent call last):\n",
            "  File \"C:\\Users\\Ramro\\AppData\\Local\\Packages\\PythonSoftwareFoundation.Python.3.12_qbz5n2kfra8p0\\LocalCache\\local-packages\\Python312\\site-packages\\sklearn\\metrics\\_scorer.py\", line 143, in __call__\n",
            "    score = scorer(estimator, *args, **routed_params.get(name).score)\n",
            "            ^^^^^^^^^^^^^^^^^^^^^^^^^^^^^^^^^^^^^^^^^^^^^^^^^^^^^^^^^\n",
            "TypeError: rmse_scorer() missing 1 required positional argument: 'y'\n",
            "\n",
            "  warnings.warn(\n"
          ]
        },
        {
          "name": "stdout",
          "output_type": "stream",
          "text": [
            "Cross-validated RMSE scores: [nan nan nan nan nan]\n",
            "Mean RMSE: nan\n"
          ]
        },
        {
          "name": "stderr",
          "output_type": "stream",
          "text": [
            "C:\\Users\\Ramro\\AppData\\Local\\Packages\\PythonSoftwareFoundation.Python.3.12_qbz5n2kfra8p0\\LocalCache\\local-packages\\Python312\\site-packages\\sklearn\\model_selection\\_validation.py:1000: UserWarning: Scoring failed. The score on this train-test partition for these parameters will be set to nan. Details: \n",
            "Traceback (most recent call last):\n",
            "  File \"C:\\Users\\Ramro\\AppData\\Local\\Packages\\PythonSoftwareFoundation.Python.3.12_qbz5n2kfra8p0\\LocalCache\\local-packages\\Python312\\site-packages\\sklearn\\metrics\\_scorer.py\", line 143, in __call__\n",
            "    score = scorer(estimator, *args, **routed_params.get(name).score)\n",
            "            ^^^^^^^^^^^^^^^^^^^^^^^^^^^^^^^^^^^^^^^^^^^^^^^^^^^^^^^^^\n",
            "TypeError: rmse_scorer() missing 1 required positional argument: 'y'\n",
            "\n",
            "  warnings.warn(\n"
          ]
        }
      ],
      "source": [
        "# Perform cross-validation with RMSE scoring\n",
        "kf = KFold(n_splits=5, shuffle=True, random_state=42)\n",
        "\n",
        "# Perform cross-validation on the SVD model\n",
        "cv_scores = cross_val_score(svd, user_item_matrix_scaled, y=None, cv=kf, scoring=rmse_scorer)\n",
        "\n",
        "# Show the results\n",
        "print(\"Cross-validated RMSE scores:\", cv_scores)\n",
        "print(\"Mean RMSE:\", np.mean(cv_scores))\n"
      ]
    },
    {
      "cell_type": "code",
      "execution_count": 8,
      "metadata": {
        "colab": {
          "base_uri": "https://localhost:8080/",
          "height": 652
        },
        "id": "w0cky17erp2E",
        "outputId": "f0b2fe09-a6cc-4248-ca64-b170a23a669a"
      },
      "outputs": [
        {
          "name": "stdout",
          "output_type": "stream",
          "text": [
            "* Running on local URL:  http://127.0.0.1:7860\n",
            "\n",
            "To create a public link, set `share=True` in `launch()`.\n"
          ]
        },
        {
          "data": {
            "text/html": [
              "<div><iframe src=\"http://127.0.0.1:7860/\" width=\"100%\" height=\"500\" allow=\"autoplay; camera; microphone; clipboard-read; clipboard-write;\" frameborder=\"0\" allowfullscreen></iframe></div>"
            ],
            "text/plain": [
              "<IPython.core.display.HTML object>"
            ]
          },
          "metadata": {},
          "output_type": "display_data"
        },
        {
          "data": {
            "text/plain": []
          },
          "execution_count": 8,
          "metadata": {},
          "output_type": "execute_result"
        },
        {
          "name": "stdout",
          "output_type": "stream",
          "text": [
            "Empty DataFrame\n",
            "Columns: [movieId, title, genres]\n",
            "Index: []\n",
            "Empty DataFrame\n",
            "Columns: [movieId, title, genres]\n",
            "Index: []\n",
            "Empty DataFrame\n",
            "Columns: [movieId, title, genres]\n",
            "Index: []\n",
            "Empty DataFrame\n",
            "Columns: [movieId, title, genres]\n",
            "Index: []\n",
            "Empty DataFrame\n",
            "Columns: [movieId, title, genres]\n",
            "Index: []\n",
            "Created dataset file at: .gradio\\flagged\\dataset1.csv\n",
            "Empty DataFrame\n",
            "Columns: [movieId, title, genres]\n",
            "Index: []\n",
            "Empty DataFrame\n",
            "Columns: [movieId, title, genres]\n",
            "Index: []\n",
            "Empty DataFrame\n",
            "Columns: [movieId, title, genres]\n",
            "Index: []\n"
          ]
        }
      ],
      "source": [
        "import pandas as pd\n",
        "import numpy as np\n",
        "from sklearn.decomposition import TruncatedSVD\n",
        "import gradio as gr\n",
        "\n",
        "# Assume svd is already trained as shown in the previous part\n",
        "\n",
        "def recommend_movies(user_input):\n",
        "    # Step 1: Filter movies by genre based on user input\n",
        "    user_input = user_input.lower()\n",
        "    filtered_movies = movies[movies['genres'].str.contains(user_input, case=False, na=False)]\n",
        "\n",
        "    print(filtered_movies.head())  # Add this for debugging\n",
        "\n",
        "\n",
        "    # Step 2: Handle case when no movies are found for the genre\n",
        "    if filtered_movies.empty:\n",
        "        return [\"No movies found for this genre.\"]\n",
        "\n",
        "    # Step 3: Simulate a user vector with neutral ratings for simplicity\n",
        "    user_vector = np.zeros((1, len(movies)))  # Initialize with zeros for all movies\n",
        "\n",
        "    # Update the user vector with average ratings for movies in the selected genre\n",
        "    for idx in filtered_movies.index:\n",
        "        movie_id = filtered_movies.loc[idx, 'movieId']\n",
        "        avg_rating = np.mean(ratings[ratings['movieId'] == movie_id]['rating'])\n",
        "        user_vector[0, idx] = avg_rating\n",
        "\n",
        "    # Step 4: Get predicted ratings using the trained SVD model\n",
        "    predicted_ratings = svd.transform(user_vector).dot(svd.components_)\n",
        "\n",
        "    # Step 5: Get top 5 recommended movie titles\n",
        "    top_indices = np.argsort(predicted_ratings[0])[-5:][::-1]  # Sort and get top 5\n",
        "    recommended_movie_titles = movies.iloc[top_indices]['title'].tolist()\n",
        "\n",
        "    return recommended_movie_titles\n",
        "\n",
        "# Create the Gradio interface\n",
        "iface = gr.Interface(\n",
        "    fn=recommend_movies,\n",
        "    inputs=\"text\",\n",
        "    outputs=\"text\",\n",
        "    title=\"Movie Recommendation System\",\n",
        "    description=\"Enter a genre or movie preference and get personalized movie recommendations.\"\n",
        ")\n",
        "\n",
        "# Launch the interface\n",
        "iface.launch()\n"
      ]
    }
  ],
  "metadata": {
    "accelerator": "GPU",
    "colab": {
      "gpuType": "T4",
      "provenance": []
    },
    "kernelspec": {
      "display_name": "Python 3",
      "name": "python3"
    },
    "language_info": {
      "codemirror_mode": {
        "name": "ipython",
        "version": 3
      },
      "file_extension": ".py",
      "mimetype": "text/x-python",
      "name": "python",
      "nbconvert_exporter": "python",
      "pygments_lexer": "ipython3",
      "version": "3.12.8"
    }
  },
  "nbformat": 4,
  "nbformat_minor": 0
}
