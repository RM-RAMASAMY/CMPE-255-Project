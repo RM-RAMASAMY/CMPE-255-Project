{
 "cells": [
  {
   "cell_type": "markdown",
   "metadata": {},
   "source": [
    "# How Does SVD Help in Collaborative Filtering?\n",
    "\n",
    "## Collaborative Filtering Context\n",
    "- Collaborative filtering typically relies on a **user-item interaction matrix**, where:\n",
    "  - Rows represent users.\n",
    "  - Columns represent items.\n",
    "  - Each entry corresponds to a user's rating or interaction with an item.\n",
    "- The matrix is often sparse because most users rate or interact with only a small subset of available items.\n",
    "\n",
    "---\n",
    "\n",
    "## Role of SVD\n",
    "Singular Value Decomposition (SVD) decomposes the user-item matrix $ R $ into three matrices:\n",
    "\n",
    "$$\n",
    "R \\approx U \\Sigma V^T\n",
    "$$\n",
    "\n",
    "Where:\n",
    "- $U$: An $ m \\times k $ matrix capturing the latent features for users.\n",
    "- $\\Sigma$ : A diagonal $ k \\times k $ matrix of singular values (importance of latent features).\n",
    "- $ V^T $: A $ k \\times n $ matrix capturing the latent features for items.\n",
    "\n",
    "---\n",
    "\n",
    "## Benefits in Collaborative Filtering\n",
    "\n",
    "### 1. Dimensionality Reduction\n",
    "- The original user-item matrix can have very high dimensions (number of users and items).\n",
    "- By using only the top $ k $ singular values, SVD reduces the dimensionality, focusing on the most significant latent features. This reduces noise and computational complexity.\n",
    "\n",
    "### 2. Latent Feature Representation\n",
    "- Latent features represent abstract user preferences and item characteristics (e.g., \"genre preferences\" or \"popularity\").\n",
    "- SVD captures these relationships, enabling the system to generalize and make recommendations even for unseen user-item pairs.\n",
    "\n",
    "### 3. Dealing with Sparsity\n",
    "- By approximating the user-item matrix with the $ U $, $ \\Sigma $, and $ V^T $ matrices, SVD fills in missing entries in the original sparse matrix, effectively predicting unknown ratings.\n",
    "\n",
    "---\n",
    "\n",
    "## Making Recommendations\n",
    "\n",
    "The predicted rating for a user $ u $ and an item $ i $ is given by:\n",
    "\n",
    "$$\n",
    "\\hat{r}_{ui} = U_u \\Sigma V_i^T\n",
    "$$\n",
    "\n",
    "Where:\n",
    "- $ U_u $: Latent feature vector for user $ u $.\n",
    "- $ V_i^T $: Latent feature vector for item $ i $.\n",
    "\n",
    "---\n",
    "\n",
    "## Example\n",
    "Imagine a user hasn't rated a movie, but SVD identifies latent features indicating:\n",
    "- The user likes science fiction.\n",
    "- The movie is strongly associated with science fiction.\n",
    "\n",
    "SVD predicts a high rating, recommending the movie.\n",
    "\n",
    "---\n",
    "\n",
    "## Limitations of SVD\n",
    "- **Cold Start Problem**: It cannot handle new users or items without sufficient historical data.\n",
    "- **Computation Cost**: For very large matrices, computing SVD can be computationally expensive, though techniques like truncated SVD or alternating least squares (ALS) mitigate this.\n",
    "\n",
    "---\n",
    "\n",
    "## Summary\n",
    "SVD enhances collaborative filtering by:\n",
    "- Uncovering latent patterns in the user-item matrix.\n",
    "- Predicting missing values.\n",
    "- Reducing dimensionality to improve recommendation accuracy and efficiency.\n"
   ]
  },
  {
   "cell_type": "code",
   "execution_count": 5,
   "metadata": {},
   "outputs": [
    {
     "name": "stdout",
     "output_type": "stream",
     "text": [
      "c:\\Users\\Ramro\\OneDrive\\Documents\\Library\\SJSU Semester 1 Material\\CMPE-255\\project\\CMPE-255-Project\n"
     ]
    }
   ],
   "source": [
    "import os\n",
    "\n",
    "# Set the working directory\n",
    "os.chdir(r'c:\\Users\\Ramro\\OneDrive\\Documents\\Library\\SJSU Semester 1 Material\\CMPE-255\\project\\CMPE-255-Project')\n",
    "\n",
    "# Print the current working directory to confirm\n",
    "print(os.getcwd())"
   ]
  },
  {
   "cell_type": "code",
   "execution_count": 12,
   "metadata": {},
   "outputs": [
    {
     "data": {
      "text/plain": [
       "array([[ 1.35135521, -0.45137737,  3.87730537, ..., -0.04052204,\n",
       "        -0.04052204, -0.04052204],\n",
       "       [-0.71333277, -0.45137737, -0.2894531 , ..., -0.04052204,\n",
       "        -0.04052204, -0.04052204],\n",
       "       [-0.71333277, -0.45137737, -0.2894531 , ..., -0.04052204,\n",
       "        -0.04052204, -0.04052204],\n",
       "       ...,\n",
       "       [ 0.57709721,  1.00737864,  1.79392613, ..., -0.04052204,\n",
       "        -0.04052204, -0.04052204],\n",
       "       [ 0.83518321, -0.45137737, -0.2894531 , ..., -0.04052204,\n",
       "        -0.04052204, -0.04052204],\n",
       "       [ 1.8675272 , -0.45137737, -0.2894531 , ..., -0.04052204,\n",
       "        -0.04052204, -0.04052204]])"
      ]
     },
     "metadata": {},
     "output_type": "display_data"
    }
   ],
   "source": [
    "import pandas as pd\n",
    "\n",
    "# Read the user_item_matrix_scaled.csv file\n",
    "user_item_matrix_scaled = pd.read_csv('data_prep/user_item_matrix_scaled.csv', index_col=0).values\n",
    "\n",
    "# Display the first few rows of the dataframe\n",
    "display(user_item_matrix_scaled)"
   ]
  },
  {
   "cell_type": "code",
   "execution_count": null,
   "metadata": {},
   "outputs": [
    {
     "ename": "AttributeError",
     "evalue": "'numpy.ndarray' object has no attribute 'index'",
     "output_type": "error",
     "traceback": [
      "\u001b[1;31m---------------------------------------------------------------------------\u001b[0m",
      "\u001b[1;31mAttributeError\u001b[0m                            Traceback (most recent call last)",
      "Cell \u001b[1;32mIn[13], line 8\u001b[0m\n\u001b[0;32m      5\u001b[0m svd_matrix \u001b[38;5;241m=\u001b[39m svd\u001b[38;5;241m.\u001b[39mfit_transform(user_item_matrix_scaled)\n\u001b[0;32m      7\u001b[0m \u001b[38;5;66;03m# Convert the SVD results back into a DataFrame for easier understanding\u001b[39;00m\n\u001b[1;32m----> 8\u001b[0m svd_df \u001b[38;5;241m=\u001b[39m pd\u001b[38;5;241m.\u001b[39mDataFrame(svd_matrix, index\u001b[38;5;241m=\u001b[39m\u001b[43muser_item_matrix_scaled\u001b[49m\u001b[38;5;241;43m.\u001b[39;49m\u001b[43mindex\u001b[49m)\n\u001b[0;32m     10\u001b[0m \u001b[38;5;66;03m# Show the SVD results\u001b[39;00m\n\u001b[0;32m     11\u001b[0m display(svd_df)\n",
      "\u001b[1;31mAttributeError\u001b[0m: 'numpy.ndarray' object has no attribute 'index'"
     ]
    }
   ],
   "source": [
    "from sklearn.decomposition import TruncatedSVD\n",
    "\n",
    "# Apply Truncated SVD for matrix factorization\n",
    "svd = TruncatedSVD(n_components=50, random_state=42)\n",
    "svd_matrix = svd.fit_transform(user_item_matrix_scaled)\n",
    "\n",
    "# Convert the SVD results back into a DataFrame for easier understanding\n",
    "svd_df = pd.DataFrame(svd_matrix, index=user_item_matrix_scaled.index)\n",
    "\n",
    "# Show the SVD results\n",
    "display(svd_df)\n"
   ]
  },
  {
   "cell_type": "code",
   "execution_count": null,
   "metadata": {},
   "outputs": [
    {
     "name": "stdout",
     "output_type": "stream",
     "text": [
      "c:\\Users\\Ramro\\OneDrive\\Documents\\Library\\SJSU Semester 1 Material\\CMPE-255\\project\\CMPE-255-Project\n"
     ]
    }
   ],
   "source": []
  },
  {
   "cell_type": "code",
   "execution_count": 8,
   "metadata": {},
   "outputs": [],
   "source": [
    "from sklearn.metrics import mean_squared_error\n",
    "import numpy as np\n",
    "\n",
    "# Define the custom RMSE scoring function\n",
    "def rmse_scorer(model, X, y):\n",
    "    # Predict ratings by multiplying user-item matrix with SVD components\n",
    "    predicted_ratings = model.transform(X).dot(model.components_)\n",
    "    # Compute RMSE\n",
    "    return np.sqrt(mean_squared_error(y, predicted_ratings))\n"
   ]
  },
  {
   "cell_type": "code",
   "execution_count": 10,
   "metadata": {},
   "outputs": [
    {
     "data": {
      "text/plain": [
       "pandas.core.frame.DataFrame"
      ]
     },
     "execution_count": 10,
     "metadata": {},
     "output_type": "execute_result"
    }
   ],
   "source": [
    "type(user_item_matrix_scaled)"
   ]
  },
  {
   "cell_type": "code",
   "execution_count": 9,
   "metadata": {},
   "outputs": [
    {
     "ename": "KeyError",
     "evalue": "\"None of [Index([  0,   1,   3,   4,   5,   7,   8,   9,  12,  13,\\n       ...\\n       596, 597, 599, 600, 601, 602, 603, 604, 607, 609],\\n      dtype='int32', length=488)] are in the [columns]\"",
     "output_type": "error",
     "traceback": [
      "\u001b[1;31m---------------------------------------------------------------------------\u001b[0m",
      "\u001b[1;31mKeyError\u001b[0m                                  Traceback (most recent call last)",
      "Cell \u001b[1;32mIn[9], line 6\u001b[0m\n\u001b[0;32m      4\u001b[0m kf \u001b[38;5;241m=\u001b[39m KFold(n_splits\u001b[38;5;241m=\u001b[39m\u001b[38;5;241m5\u001b[39m, shuffle\u001b[38;5;241m=\u001b[39m\u001b[38;5;28;01mTrue\u001b[39;00m, random_state\u001b[38;5;241m=\u001b[39m\u001b[38;5;241m42\u001b[39m)\n\u001b[0;32m      5\u001b[0m \u001b[38;5;28;01mfor\u001b[39;00m train_index, test_index \u001b[38;5;129;01min\u001b[39;00m kf\u001b[38;5;241m.\u001b[39msplit(user_item_matrix_scaled):\n\u001b[1;32m----> 6\u001b[0m     X_train, X_test \u001b[38;5;241m=\u001b[39m \u001b[43muser_item_matrix_scaled\u001b[49m\u001b[43m[\u001b[49m\u001b[43mtrain_index\u001b[49m\u001b[43m]\u001b[49m, user_item_matrix_scaled[test_index]\n\u001b[0;32m      7\u001b[0m     y_train, y_test \u001b[38;5;241m=\u001b[39m user_item_matrix_scaled[train_index], user_item_matrix_scaled[test_index]\n\u001b[0;32m      8\u001b[0m     svd\u001b[38;5;241m.\u001b[39mfit(X_train)\n",
      "File \u001b[1;32m~\\AppData\\Local\\Packages\\PythonSoftwareFoundation.Python.3.12_qbz5n2kfra8p0\\LocalCache\\local-packages\\Python312\\site-packages\\pandas\\core\\frame.py:4108\u001b[0m, in \u001b[0;36mDataFrame.__getitem__\u001b[1;34m(self, key)\u001b[0m\n\u001b[0;32m   4106\u001b[0m     \u001b[38;5;28;01mif\u001b[39;00m is_iterator(key):\n\u001b[0;32m   4107\u001b[0m         key \u001b[38;5;241m=\u001b[39m \u001b[38;5;28mlist\u001b[39m(key)\n\u001b[1;32m-> 4108\u001b[0m     indexer \u001b[38;5;241m=\u001b[39m \u001b[38;5;28;43mself\u001b[39;49m\u001b[38;5;241;43m.\u001b[39;49m\u001b[43mcolumns\u001b[49m\u001b[38;5;241;43m.\u001b[39;49m\u001b[43m_get_indexer_strict\u001b[49m\u001b[43m(\u001b[49m\u001b[43mkey\u001b[49m\u001b[43m,\u001b[49m\u001b[43m \u001b[49m\u001b[38;5;124;43m\"\u001b[39;49m\u001b[38;5;124;43mcolumns\u001b[39;49m\u001b[38;5;124;43m\"\u001b[39;49m\u001b[43m)\u001b[49m[\u001b[38;5;241m1\u001b[39m]\n\u001b[0;32m   4110\u001b[0m \u001b[38;5;66;03m# take() does not accept boolean indexers\u001b[39;00m\n\u001b[0;32m   4111\u001b[0m \u001b[38;5;28;01mif\u001b[39;00m \u001b[38;5;28mgetattr\u001b[39m(indexer, \u001b[38;5;124m\"\u001b[39m\u001b[38;5;124mdtype\u001b[39m\u001b[38;5;124m\"\u001b[39m, \u001b[38;5;28;01mNone\u001b[39;00m) \u001b[38;5;241m==\u001b[39m \u001b[38;5;28mbool\u001b[39m:\n",
      "File \u001b[1;32m~\\AppData\\Local\\Packages\\PythonSoftwareFoundation.Python.3.12_qbz5n2kfra8p0\\LocalCache\\local-packages\\Python312\\site-packages\\pandas\\core\\indexes\\base.py:6200\u001b[0m, in \u001b[0;36mIndex._get_indexer_strict\u001b[1;34m(self, key, axis_name)\u001b[0m\n\u001b[0;32m   6197\u001b[0m \u001b[38;5;28;01melse\u001b[39;00m:\n\u001b[0;32m   6198\u001b[0m     keyarr, indexer, new_indexer \u001b[38;5;241m=\u001b[39m \u001b[38;5;28mself\u001b[39m\u001b[38;5;241m.\u001b[39m_reindex_non_unique(keyarr)\n\u001b[1;32m-> 6200\u001b[0m \u001b[38;5;28;43mself\u001b[39;49m\u001b[38;5;241;43m.\u001b[39;49m\u001b[43m_raise_if_missing\u001b[49m\u001b[43m(\u001b[49m\u001b[43mkeyarr\u001b[49m\u001b[43m,\u001b[49m\u001b[43m \u001b[49m\u001b[43mindexer\u001b[49m\u001b[43m,\u001b[49m\u001b[43m \u001b[49m\u001b[43maxis_name\u001b[49m\u001b[43m)\u001b[49m\n\u001b[0;32m   6202\u001b[0m keyarr \u001b[38;5;241m=\u001b[39m \u001b[38;5;28mself\u001b[39m\u001b[38;5;241m.\u001b[39mtake(indexer)\n\u001b[0;32m   6203\u001b[0m \u001b[38;5;28;01mif\u001b[39;00m \u001b[38;5;28misinstance\u001b[39m(key, Index):\n\u001b[0;32m   6204\u001b[0m     \u001b[38;5;66;03m# GH 42790 - Preserve name from an Index\u001b[39;00m\n",
      "File \u001b[1;32m~\\AppData\\Local\\Packages\\PythonSoftwareFoundation.Python.3.12_qbz5n2kfra8p0\\LocalCache\\local-packages\\Python312\\site-packages\\pandas\\core\\indexes\\base.py:6249\u001b[0m, in \u001b[0;36mIndex._raise_if_missing\u001b[1;34m(self, key, indexer, axis_name)\u001b[0m\n\u001b[0;32m   6247\u001b[0m \u001b[38;5;28;01mif\u001b[39;00m nmissing:\n\u001b[0;32m   6248\u001b[0m     \u001b[38;5;28;01mif\u001b[39;00m nmissing \u001b[38;5;241m==\u001b[39m \u001b[38;5;28mlen\u001b[39m(indexer):\n\u001b[1;32m-> 6249\u001b[0m         \u001b[38;5;28;01mraise\u001b[39;00m \u001b[38;5;167;01mKeyError\u001b[39;00m(\u001b[38;5;124mf\u001b[39m\u001b[38;5;124m\"\u001b[39m\u001b[38;5;124mNone of [\u001b[39m\u001b[38;5;132;01m{\u001b[39;00mkey\u001b[38;5;132;01m}\u001b[39;00m\u001b[38;5;124m] are in the [\u001b[39m\u001b[38;5;132;01m{\u001b[39;00maxis_name\u001b[38;5;132;01m}\u001b[39;00m\u001b[38;5;124m]\u001b[39m\u001b[38;5;124m\"\u001b[39m)\n\u001b[0;32m   6251\u001b[0m     not_found \u001b[38;5;241m=\u001b[39m \u001b[38;5;28mlist\u001b[39m(ensure_index(key)[missing_mask\u001b[38;5;241m.\u001b[39mnonzero()[\u001b[38;5;241m0\u001b[39m]]\u001b[38;5;241m.\u001b[39munique())\n\u001b[0;32m   6252\u001b[0m     \u001b[38;5;28;01mraise\u001b[39;00m \u001b[38;5;167;01mKeyError\u001b[39;00m(\u001b[38;5;124mf\u001b[39m\u001b[38;5;124m\"\u001b[39m\u001b[38;5;132;01m{\u001b[39;00mnot_found\u001b[38;5;132;01m}\u001b[39;00m\u001b[38;5;124m not in index\u001b[39m\u001b[38;5;124m\"\u001b[39m)\n",
      "\u001b[1;31mKeyError\u001b[0m: \"None of [Index([  0,   1,   3,   4,   5,   7,   8,   9,  12,  13,\\n       ...\\n       596, 597, 599, 600, 601, 602, 603, 604, 607, 609],\\n      dtype='int32', length=488)] are in the [columns]\""
     ]
    }
   ],
   "source": [
    "\n",
    "from sklearn.model_selection import cross_val_score, KFold\n",
    "\n",
    "# Perform cross-validation with RMSE scoring\n",
    "kf = KFold(n_splits=5, shuffle=True, random_state=42)\n",
    "for train_index, test_index in kf.split(user_item_matrix_scaled):\n",
    "    X_train, X_test = user_item_matrix_scaled[train_index], user_item_matrix_scaled[test_index]\n",
    "    y_train, y_test = user_item_matrix_scaled[train_index], user_item_matrix_scaled[test_index]\n",
    "    svd.fit(X_train)\n",
    "    cv_scores = cross_val_score(svd, X_test, y_test, cv=kf, scoring=rmse_scorer)\n",
    "\n",
    "# Show the results\n",
    "print(\"Cross-validated RMSE scores:\", cv_scores)\n",
    "print(\"Mean RMSE:\", np.mean(cv_scores))\n"
   ]
  }
 ],
 "metadata": {
  "kernelspec": {
   "display_name": "Python 3",
   "language": "python",
   "name": "python3"
  },
  "language_info": {
   "codemirror_mode": {
    "name": "ipython",
    "version": 3
   },
   "file_extension": ".py",
   "mimetype": "text/x-python",
   "name": "python",
   "nbconvert_exporter": "python",
   "pygments_lexer": "ipython3",
   "version": "3.12.8"
  }
 },
 "nbformat": 4,
 "nbformat_minor": 2
}
