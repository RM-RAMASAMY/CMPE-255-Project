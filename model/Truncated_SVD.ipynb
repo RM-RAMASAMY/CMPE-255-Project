{
 "cells": [
  {
   "cell_type": "markdown",
   "metadata": {},
   "source": [
    "# How Does SVD Help in Collaborative Filtering?\n",
    "\n",
    "## Collaborative Filtering Context\n",
    "- Collaborative filtering typically relies on a **user-item interaction matrix**, where:\n",
    "  - Rows represent users.\n",
    "  - Columns represent items.\n",
    "  - Each entry corresponds to a user's rating or interaction with an item.\n",
    "- The matrix is often sparse because most users rate or interact with only a small subset of available items.\n",
    "\n",
    "---\n",
    "\n",
    "## Role of SVD\n",
    "Singular Value Decomposition (SVD) decomposes the user-item matrix $ R $ into three matrices:\n",
    "\n",
    "$$\n",
    "R \\approx U \\Sigma V^T\n",
    "$$\n",
    "\n",
    "Where:\n",
    "- $U$: An $ m \\times k $ matrix capturing the latent features for users.\n",
    "- $\\Sigma$ : A diagonal $ k \\times k $ matrix of singular values (importance of latent features).\n",
    "- $ V^T $: A $ k \\times n $ matrix capturing the latent features for items.\n",
    "\n",
    "---\n",
    "\n",
    "## Benefits in Collaborative Filtering\n",
    "\n",
    "### 1. Dimensionality Reduction\n",
    "- The original user-item matrix can have very high dimensions (number of users and items).\n",
    "- By using only the top $ k $ singular values, SVD reduces the dimensionality, focusing on the most significant latent features. This reduces noise and computational complexity.\n",
    "\n",
    "### 2. Latent Feature Representation\n",
    "- Latent features represent abstract user preferences and item characteristics (e.g., \"genre preferences\" or \"popularity\").\n",
    "- SVD captures these relationships, enabling the system to generalize and make recommendations even for unseen user-item pairs.\n",
    "\n",
    "### 3. Dealing with Sparsity\n",
    "- By approximating the user-item matrix with the $ U $, $ \\Sigma $, and $ V^T $ matrices, SVD fills in missing entries in the original sparse matrix, effectively predicting unknown ratings.\n",
    "\n",
    "---\n",
    "\n",
    "## Making Recommendations\n",
    "\n",
    "The predicted rating for a user $ u $ and an item $ i $ is given by:\n",
    "\n",
    "$$\n",
    "\\hat{r}_{ui} = U_u \\Sigma V_i^T\n",
    "$$\n",
    "\n",
    "Where:\n",
    "- $ U_u $: Latent feature vector for user $ u $.\n",
    "- $ V_i^T $: Latent feature vector for item $ i $.\n",
    "\n",
    "---\n",
    "\n",
    "## Example\n",
    "Imagine a user hasn't rated a movie, but SVD identifies latent features indicating:\n",
    "- The user likes science fiction.\n",
    "- The movie is strongly associated with science fiction.\n",
    "\n",
    "SVD predicts a high rating, recommending the movie.\n",
    "\n",
    "---\n",
    "\n",
    "## Limitations of SVD\n",
    "- **Cold Start Problem**: It cannot handle new users or items without sufficient historical data.\n",
    "- **Computation Cost**: For very large matrices, computing SVD can be computationally expensive, though techniques like truncated SVD or alternating least squares (ALS) mitigate this.\n",
    "\n",
    "---\n",
    "\n",
    "## Summary\n",
    "SVD enhances collaborative filtering by:\n",
    "- Uncovering latent patterns in the user-item matrix.\n",
    "- Predicting missing values.\n",
    "- Reducing dimensionality to improve recommendation accuracy and efficiency.\n"
   ]
  },
  {
   "cell_type": "code",
   "execution_count": null,
   "metadata": {
    "vscode": {
     "languageId": "plaintext"
    }
   },
   "outputs": [],
   "source": []
  },
  {
   "cell_type": "code",
   "execution_count": null,
   "metadata": {
    "vscode": {
     "languageId": "plaintext"
    }
   },
   "outputs": [],
   "source": []
  },
  {
   "cell_type": "code",
   "execution_count": null,
   "metadata": {
    "vscode": {
     "languageId": "plaintext"
    }
   },
   "outputs": [],
   "source": []
  }
 ],
 "metadata": {
  "language_info": {
   "name": "python"
  }
 },
 "nbformat": 4,
 "nbformat_minor": 2
}
